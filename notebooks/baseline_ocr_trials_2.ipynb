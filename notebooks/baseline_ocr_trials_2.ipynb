{
  "nbformat": 4,
  "nbformat_minor": 0,
  "metadata": {
    "colab": {
      "provenance": []
    },
    "kernelspec": {
      "name": "python3",
      "display_name": "Python 3"
    },
    "language_info": {
      "name": "python"
    }
  },
  "cells": [
    {
      "cell_type": "code",
      "source": [
        "pip install PyMuPDF"
      ],
      "metadata": {
        "colab": {
          "base_uri": "https://localhost:8080/"
        },
        "id": "CjCqq8lbExhr",
        "outputId": "7023ebc0-1a73-4c7f-b732-d30f06a396ca"
      },
      "execution_count": null,
      "outputs": [
        {
          "output_type": "stream",
          "name": "stdout",
          "text": [
            "Collecting PyMuPDF\n",
            "  Downloading pymupdf-1.25.1-cp39-abi3-manylinux2014_x86_64.manylinux_2_17_x86_64.whl.metadata (3.4 kB)\n",
            "Downloading pymupdf-1.25.1-cp39-abi3-manylinux2014_x86_64.manylinux_2_17_x86_64.whl (20.0 MB)\n",
            "\u001b[2K   \u001b[90m━━━━━━━━━━━━━━━━━━━━━━━━━━━━━━━━━━━━━━━━\u001b[0m \u001b[32m20.0/20.0 MB\u001b[0m \u001b[31m79.1 MB/s\u001b[0m eta \u001b[36m0:00:00\u001b[0m\n",
            "\u001b[?25hInstalling collected packages: PyMuPDF\n",
            "Successfully installed PyMuPDF-1.25.1\n"
          ]
        }
      ]
    },
    {
      "cell_type": "code",
      "execution_count": null,
      "metadata": {
        "colab": {
          "base_uri": "https://localhost:8080/"
        },
        "id": "XszqwhAnEiFd",
        "outputId": "6ed3fee9-4f09-4791-c68e-02a7564d2d8c"
      },
      "outputs": [
        {
          "output_type": "stream",
          "name": "stdout",
          "text": [
            "Saved output_images/page_1.png\n",
            "All pages extracted and saved to output_images\n"
          ]
        }
      ],
      "source": [
        "import fitz  # PyMuPDF\n",
        "import os\n",
        "\n",
        "def extract_pages_as_png(pdf_path, output_folder):\n",
        "    # Ensure the output folder exists\n",
        "    if not os.path.exists(output_folder):\n",
        "        os.makedirs(output_folder)\n",
        "\n",
        "    pdf_document = fitz.open(pdf_path)\n",
        "\n",
        "    for page_num in range(len(pdf_document)):\n",
        "        page = pdf_document.load_page(page_num)\n",
        "\n",
        "        zoom = 2  # Zoom factor for higher resolution (e.g., 2x)\n",
        "        mat = fitz.Matrix(zoom, zoom)\n",
        "\n",
        "        pix = page.get_pixmap(matrix=mat, alpha=False)\n",
        "\n",
        "        output_path = os.path.join(output_folder, f\"page_{page_num + 1}.png\")\n",
        "        pix.save(output_path)\n",
        "        print(f\"Saved {output_path}\")\n",
        "\n",
        "    print(f\"All pages extracted and saved to {output_folder}\")\n",
        "\n",
        "if __name__ == \"__main__\":\n",
        "    pdf_path = \"/content/test1.pdf\"  # Replace with your PDF file path\n",
        "    output_folder = \"output_images\"  # Replace with your desired output folder\n",
        "    extract_pages_as_png(pdf_path, output_folder)\n"
      ]
    },
    {
      "cell_type": "code",
      "source": [
        "pip install easyocr"
      ],
      "metadata": {
        "colab": {
          "base_uri": "https://localhost:8080/"
        },
        "id": "VrXwyr3fFDW-",
        "outputId": "3b77f7b5-89c2-4f1c-fdbc-151826b99522"
      },
      "execution_count": null,
      "outputs": [
        {
          "output_type": "stream",
          "name": "stdout",
          "text": [
            "Collecting easyocr\n",
            "  Downloading easyocr-1.7.2-py3-none-any.whl.metadata (10 kB)\n",
            "Requirement already satisfied: torch in /usr/local/lib/python3.10/dist-packages (from easyocr) (2.5.1+cu121)\n",
            "Requirement already satisfied: torchvision>=0.5 in /usr/local/lib/python3.10/dist-packages (from easyocr) (0.20.1+cu121)\n",
            "Requirement already satisfied: opencv-python-headless in /usr/local/lib/python3.10/dist-packages (from easyocr) (4.10.0.84)\n",
            "Requirement already satisfied: scipy in /usr/local/lib/python3.10/dist-packages (from easyocr) (1.13.1)\n",
            "Requirement already satisfied: numpy in /usr/local/lib/python3.10/dist-packages (from easyocr) (1.26.4)\n",
            "Requirement already satisfied: Pillow in /usr/local/lib/python3.10/dist-packages (from easyocr) (11.0.0)\n",
            "Requirement already satisfied: scikit-image in /usr/local/lib/python3.10/dist-packages (from easyocr) (0.25.0)\n",
            "Collecting python-bidi (from easyocr)\n",
            "  Downloading python_bidi-0.6.3-cp310-cp310-manylinux_2_17_x86_64.manylinux2014_x86_64.whl.metadata (4.9 kB)\n",
            "Requirement already satisfied: PyYAML in /usr/local/lib/python3.10/dist-packages (from easyocr) (6.0.2)\n",
            "Requirement already satisfied: Shapely in /usr/local/lib/python3.10/dist-packages (from easyocr) (2.0.6)\n",
            "Collecting pyclipper (from easyocr)\n",
            "  Downloading pyclipper-1.3.0.post6-cp310-cp310-manylinux_2_12_x86_64.manylinux2010_x86_64.whl.metadata (9.0 kB)\n",
            "Collecting ninja (from easyocr)\n",
            "  Downloading ninja-1.11.1.3-py3-none-manylinux_2_12_x86_64.manylinux2010_x86_64.whl.metadata (5.3 kB)\n",
            "Requirement already satisfied: filelock in /usr/local/lib/python3.10/dist-packages (from torch->easyocr) (3.16.1)\n",
            "Requirement already satisfied: typing-extensions>=4.8.0 in /usr/local/lib/python3.10/dist-packages (from torch->easyocr) (4.12.2)\n",
            "Requirement already satisfied: networkx in /usr/local/lib/python3.10/dist-packages (from torch->easyocr) (3.4.2)\n",
            "Requirement already satisfied: jinja2 in /usr/local/lib/python3.10/dist-packages (from torch->easyocr) (3.1.4)\n",
            "Requirement already satisfied: fsspec in /usr/local/lib/python3.10/dist-packages (from torch->easyocr) (2024.10.0)\n",
            "Requirement already satisfied: sympy==1.13.1 in /usr/local/lib/python3.10/dist-packages (from torch->easyocr) (1.13.1)\n",
            "Requirement already satisfied: mpmath<1.4,>=1.1.0 in /usr/local/lib/python3.10/dist-packages (from sympy==1.13.1->torch->easyocr) (1.3.0)\n",
            "Requirement already satisfied: imageio!=2.35.0,>=2.33 in /usr/local/lib/python3.10/dist-packages (from scikit-image->easyocr) (2.36.1)\n",
            "Requirement already satisfied: tifffile>=2022.8.12 in /usr/local/lib/python3.10/dist-packages (from scikit-image->easyocr) (2024.12.12)\n",
            "Requirement already satisfied: packaging>=21 in /usr/local/lib/python3.10/dist-packages (from scikit-image->easyocr) (24.2)\n",
            "Requirement already satisfied: lazy-loader>=0.4 in /usr/local/lib/python3.10/dist-packages (from scikit-image->easyocr) (0.4)\n",
            "Requirement already satisfied: MarkupSafe>=2.0 in /usr/local/lib/python3.10/dist-packages (from jinja2->torch->easyocr) (3.0.2)\n",
            "Downloading easyocr-1.7.2-py3-none-any.whl (2.9 MB)\n",
            "\u001b[2K   \u001b[90m━━━━━━━━━━━━━━━━━━━━━━━━━━━━━━━━━━━━━━━━\u001b[0m \u001b[32m2.9/2.9 MB\u001b[0m \u001b[31m31.3 MB/s\u001b[0m eta \u001b[36m0:00:00\u001b[0m\n",
            "\u001b[?25hDownloading ninja-1.11.1.3-py3-none-manylinux_2_12_x86_64.manylinux2010_x86_64.whl (422 kB)\n",
            "\u001b[2K   \u001b[90m━━━━━━━━━━━━━━━━━━━━━━━━━━━━━━━━━━━━━━━━\u001b[0m \u001b[32m422.9/422.9 kB\u001b[0m \u001b[31m26.1 MB/s\u001b[0m eta \u001b[36m0:00:00\u001b[0m\n",
            "\u001b[?25hDownloading pyclipper-1.3.0.post6-cp310-cp310-manylinux_2_12_x86_64.manylinux2010_x86_64.whl (912 kB)\n",
            "\u001b[2K   \u001b[90m━━━━━━━━━━━━━━━━━━━━━━━━━━━━━━━━━━━━━━━━\u001b[0m \u001b[32m912.2/912.2 kB\u001b[0m \u001b[31m37.0 MB/s\u001b[0m eta \u001b[36m0:00:00\u001b[0m\n",
            "\u001b[?25hDownloading python_bidi-0.6.3-cp310-cp310-manylinux_2_17_x86_64.manylinux2014_x86_64.whl (286 kB)\n",
            "\u001b[2K   \u001b[90m━━━━━━━━━━━━━━━━━━━━━━━━━━━━━━━━━━━━━━━━\u001b[0m \u001b[32m286.8/286.8 kB\u001b[0m \u001b[31m19.3 MB/s\u001b[0m eta \u001b[36m0:00:00\u001b[0m\n",
            "\u001b[?25hInstalling collected packages: python-bidi, pyclipper, ninja, easyocr\n",
            "Successfully installed easyocr-1.7.2 ninja-1.11.1.3 pyclipper-1.3.0.post6 python-bidi-0.6.3\n"
          ]
        }
      ]
    },
    {
      "cell_type": "code",
      "source": [
        "import easyocr\n",
        "reader = easyocr.Reader(['en']) # this needs to run only once to load the model into memory\n",
        "result = reader.readtext('/content/output_images/page_1.png',detail= 0 )"
      ],
      "metadata": {
        "colab": {
          "base_uri": "https://localhost:8080/"
        },
        "id": "mR3Q858IGQFA",
        "outputId": "5fe8679e-071e-4fb2-a2b6-e1d8aafb3a96"
      },
      "execution_count": null,
      "outputs": [
        {
          "output_type": "stream",
          "name": "stderr",
          "text": [
            "WARNING:easyocr.easyocr:Neither CUDA nor MPS are available - defaulting to CPU. Note: This module is much faster with a GPU.\n"
          ]
        }
      ]
    },
    {
      "cell_type": "code",
      "source": [
        "print(result)"
      ],
      "metadata": {
        "colab": {
          "base_uri": "https://localhost:8080/"
        },
        "id": "gv7m30jwGZMB",
        "outputId": "c054eef7-048a-4ce6-d78f-0d71a5a8a4ab"
      },
      "execution_count": null,
      "outputs": [
        {
          "output_type": "stream",
          "name": "stdout",
          "text": [
            "['Shubha Jaiswal', '91-7565001708', 'Roll Nc: ?10I(i()iG;', 'slubh juiswalaiitg uc.in', 'B.Teh', 'Bioscicuce AId Biocugiukriug', 'shublaunjaiswnlL4565220€gmnil', 'COMI', \"Indlizt Insticute (Hf 'Techuolog %; (juwahuti\", 'gichub com(Portfolio', 'linkedin.com /shubham', 'EuATION', 'Degree Certincate', 'Iunticute  Donrd', 'CGPA [Pcrccutuge', 'Year', 'M Tach', 'Iuudlinu lustitute of Techuolgy Guwulti', '7.37', 'Currcnt )', '202[-Prcscut', 'Sevoudary', 'CESE Board', '88.27', '22020', 'Sondary', 'CBSE Bvard', '67.07', '2018', 'E\"ERIENOE', 'Trauslead Medtcch', 'Jul.2023', 'Ikb Devclopmcmt Intcm', 'Retnote', 'Developexl rspousiiv Ul', 'Rcact , CSS,', 'ancl JavaScript, Cnsuring dynamic rcndcring and iulcractive [eaturcs:', 'Implewentcxl Ul compoucuts like navigution burs aud moduls', 'Framer Motion and Material-UL', 'Optimizcxd front-cud perforiuce by muinifying JavaScript ud CSS , iuplcmcnting', 'londing with Rcact luzy ) .', 'FROJECTS', 'Cawpus Way', 'Feb', '2024', 'Pcrsonal Pwvject', 'bil.ly ,', 'cK-', '~github', 'Developoxl', '4campus navigation systcm', 'Flask-hosted Pytbou API to visualize the shortcst', 'between iutersectious.', 'Iutegratcrl', '# React fronteud t0 visualizc and', 'display the shortcst paths, enhancing uscr interaction and expericnce:', 'Desigucd', 'weighted uudirecled graph and implcmcnted Dijkstra $ Algorithm, optimizing travel timc by timc by 12%', 'Ipenscs', 'Jun. 2024', 'Personal Project', 'Developcrl', 'MERN stack cxpcuse', 'tracking app with MongoDB Atlas, incorporating financial tracking and dati gualizitlioh .', 'lutcgrated custom Bar Charts that enhanced data visualization cnpabilicie; fr fingnicial ccporting ', 'Tmplemented a yearly', 'the useState Hook , allowing uscrs to marage and display (heir expenses by year elliciently', 'Whiteboard', 'Grup Prject', 'Jul. 2024', 'Devclopcd', '\" robust', 'wbitcboard application levcraging Rcact Hooks, JavaScript, and Tailwind CSS .', 'bit,ly / wbd-github', 'lucorporated tools for', 'erasing; and crcating shapes, includiug peucils aud', 'crascrs tO cnhance uscr fuuctiouality:', 'Incorporated featurcs that reduced ouboarding titc for ncw USers, making the platforB  mocc  ucanbles', 'Google Mcct Cloue', 't0 tCAIS_', 'Projcct, Coding Club, IITG', 'Dcc: 2023', 'Built a %cb-bascd video .', 'conferencing application that closcly', 'bit,ly / gmc-github', '[mplemented core fcatures', 'rcplicates the corc lunctionalities of', 'Google', 'Addcd', 'Iodern wcb', '(cchnologics like WcbRTC, CSS, JavaScript;', 'aud', 'js.', \"ACHIEV'\", '(catures iucluding User authentication,', 'hand raise, 6le', 'sharing; and meeting time', 'EMENTS', 'manogemient,', 'Codeforccs, Max-rating', '1306 (Pupil)', 'Cordelorccs Rouud 169: Sccurcd Global Rank 685 among 2Ok+ participauts', 'Hacker Rank; Reachcd 6 star; in problem-solving:', 'Kriti 2022 .', 'Sccured Znd position in thc Kriti 2022 Inter-Hostel Automobile', 'BHU Entrance Tcst, Secured Rank 41 out of 0.4 million candidatcs ', 'Compctition , compcting', '10 hoslels', 'TECHNICAL SKILLS', '202[', 'Programming: € € + +, Pythol, JavaScript, MATLAB', 'Machine', 'Framcworks/ Libraries: RenctJS , Express\"', 'Pandas, Matplotlib, Senborn', 'Miscellancous: OOPs, OS\" , Git /Github', 'Tcchnology: HTML, CSS, TailwiudCSS, SockcLio\"', 'KEY COURSES TAKEN', 'Databasc Managetcnt:  MySQL, MongoDB\"', 'Mathematics:', 'Linenr Algebra, Diflerentiul Equation;', 'Real Analysis,', 'Elementury profictency', 'Computer Science:  Iutroduction t0 Computing, Computing', 'Complex Annlysis;', 'MOOC: Data ScucturcodudiolgoriComp Wcts [Ccmologig Eaboratory:', 'POSITIONs OF_RESPONSIBILITY', 'Sccurity Head , Spirit', 'IIT Guwahati', 'Lcdd a tcamn of 60 - freshers and sophomores and collaboratcd', '2023', 'Dcc: 202\"', 'Managcd the footfall of around 50k / with', 'with sccurity for the Northcast $ largest sports fest', 'Core', 'proper', 'plauning of Coutrol EnvironTECI ', 'Team Member.', 'Cousultiug & Analytics Club, IIT Guwuhati', 'Collaboratcd as a wcb', 'developer in the Cousulting and Aualytics', 'Ap; 2023', 'Mar. 202}', 'ExTRACURRICULARS', 'Club;,', 'with tcams t0 dcliver #cb solutions:', 'PMC Kareng Hostel 2024-2025, Optirnizing servicc delivery for 500+', 'Placcment voluntcers 2023-2024, Managed the', 'studeuts aud', 'contributing to Menu plauning decisionj', 'Technotblon 2022 , Pitchcd Tcchuothlon', 'process for 1200 + students', 'coordinated with 100 - companies .', 'exam (0', '300 + students_', '200 +', 'Organising team mcmber. Organized aud coordinated', 'activiticc fot Khe Z5th Costvocidio_ of IIT Guwahati', 'Ju', '2071', 'Scuic', 'using', 'using', 'Jazy', 'paths', 'usiug', 'Glter', 'uSig', 'drawing,', 'Grup', 'Mcct .', 'using', 'Exprcss', 'key', 'aInOWB', 'Learning:', 'Nuunpy.', 'Aug:', 'workiug', 'sccuring', 'key']\n"
          ]
        }
      ]
    },
    {
      "cell_type": "code",
      "source": [
        "pip install paddlepaddle"
      ],
      "metadata": {
        "colab": {
          "base_uri": "https://localhost:8080/"
        },
        "id": "LuTTxrroGt6y",
        "outputId": "40bc3597-0613-4048-e39b-07ba082dd99c"
      },
      "execution_count": null,
      "outputs": [
        {
          "output_type": "stream",
          "name": "stdout",
          "text": [
            "Collecting paddlepaddle\n",
            "  Downloading paddlepaddle-2.6.2-cp310-cp310-manylinux1_x86_64.whl.metadata (8.6 kB)\n",
            "Requirement already satisfied: httpx in /usr/local/lib/python3.10/dist-packages (from paddlepaddle) (0.28.1)\n",
            "Requirement already satisfied: numpy>=1.13 in /usr/local/lib/python3.10/dist-packages (from paddlepaddle) (1.26.4)\n",
            "Requirement already satisfied: Pillow in /usr/local/lib/python3.10/dist-packages (from paddlepaddle) (11.0.0)\n",
            "Requirement already satisfied: decorator in /usr/local/lib/python3.10/dist-packages (from paddlepaddle) (4.4.2)\n",
            "Collecting astor (from paddlepaddle)\n",
            "  Downloading astor-0.8.1-py2.py3-none-any.whl.metadata (4.2 kB)\n",
            "Collecting opt-einsum==3.3.0 (from paddlepaddle)\n",
            "  Downloading opt_einsum-3.3.0-py3-none-any.whl.metadata (6.5 kB)\n",
            "Requirement already satisfied: protobuf>=3.20.2 in /usr/local/lib/python3.10/dist-packages (from paddlepaddle) (4.25.5)\n",
            "Requirement already satisfied: anyio in /usr/local/lib/python3.10/dist-packages (from httpx->paddlepaddle) (3.7.1)\n",
            "Requirement already satisfied: certifi in /usr/local/lib/python3.10/dist-packages (from httpx->paddlepaddle) (2024.12.14)\n",
            "Requirement already satisfied: httpcore==1.* in /usr/local/lib/python3.10/dist-packages (from httpx->paddlepaddle) (1.0.7)\n",
            "Requirement already satisfied: idna in /usr/local/lib/python3.10/dist-packages (from httpx->paddlepaddle) (3.10)\n",
            "Requirement already satisfied: h11<0.15,>=0.13 in /usr/local/lib/python3.10/dist-packages (from httpcore==1.*->httpx->paddlepaddle) (0.14.0)\n",
            "Requirement already satisfied: sniffio>=1.1 in /usr/local/lib/python3.10/dist-packages (from anyio->httpx->paddlepaddle) (1.3.1)\n",
            "Requirement already satisfied: exceptiongroup in /usr/local/lib/python3.10/dist-packages (from anyio->httpx->paddlepaddle) (1.2.2)\n",
            "Downloading paddlepaddle-2.6.2-cp310-cp310-manylinux1_x86_64.whl (126.0 MB)\n",
            "\u001b[2K   \u001b[90m━━━━━━━━━━━━━━━━━━━━━━━━━━━━━━━━━━━━━━━━\u001b[0m \u001b[32m126.0/126.0 MB\u001b[0m \u001b[31m6.3 MB/s\u001b[0m eta \u001b[36m0:00:00\u001b[0m\n",
            "\u001b[?25hDownloading opt_einsum-3.3.0-py3-none-any.whl (65 kB)\n",
            "\u001b[2K   \u001b[90m━━━━━━━━━━━━━━━━━━━━━━━━━━━━━━━━━━━━━━━━\u001b[0m \u001b[32m65.5/65.5 kB\u001b[0m \u001b[31m5.7 MB/s\u001b[0m eta \u001b[36m0:00:00\u001b[0m\n",
            "\u001b[?25hDownloading astor-0.8.1-py2.py3-none-any.whl (27 kB)\n",
            "Installing collected packages: opt-einsum, astor, paddlepaddle\n",
            "  Attempting uninstall: opt-einsum\n",
            "    Found existing installation: opt_einsum 3.4.0\n",
            "    Uninstalling opt_einsum-3.4.0:\n",
            "      Successfully uninstalled opt_einsum-3.4.0\n",
            "Successfully installed astor-0.8.1 opt-einsum-3.3.0 paddlepaddle-2.6.2\n"
          ]
        }
      ]
    },
    {
      "cell_type": "code",
      "source": [
        "pip install paddleocr"
      ],
      "metadata": {
        "colab": {
          "base_uri": "https://localhost:8080/"
        },
        "id": "jIGSw4UkK3q_",
        "outputId": "d8d2c988-1ded-4731-c074-c9d6a4bbe894"
      },
      "execution_count": null,
      "outputs": [
        {
          "output_type": "stream",
          "name": "stdout",
          "text": [
            "Collecting paddleocr\n",
            "  Downloading paddleocr-2.9.1-py3-none-any.whl.metadata (8.5 kB)\n",
            "Requirement already satisfied: shapely in /usr/local/lib/python3.10/dist-packages (from paddleocr) (2.0.6)\n",
            "Requirement already satisfied: scikit-image in /usr/local/lib/python3.10/dist-packages (from paddleocr) (0.25.0)\n",
            "Requirement already satisfied: imgaug in /usr/local/lib/python3.10/dist-packages (from paddleocr) (0.4.0)\n",
            "Collecting pyclipper (from paddleocr)\n",
            "  Downloading pyclipper-1.3.0.post6-cp310-cp310-manylinux_2_12_x86_64.manylinux2010_x86_64.whl.metadata (9.0 kB)\n",
            "Collecting lmdb (from paddleocr)\n",
            "  Downloading lmdb-1.6.2-cp310-cp310-manylinux_2_17_x86_64.manylinux2014_x86_64.whl.metadata (1.1 kB)\n",
            "Requirement already satisfied: tqdm in /usr/local/lib/python3.10/dist-packages (from paddleocr) (4.67.1)\n",
            "Requirement already satisfied: numpy<2.0 in /usr/local/lib/python3.10/dist-packages (from paddleocr) (1.26.4)\n",
            "Collecting rapidfuzz (from paddleocr)\n",
            "  Downloading rapidfuzz-3.11.0-cp310-cp310-manylinux_2_17_x86_64.manylinux2014_x86_64.whl.metadata (11 kB)\n",
            "Requirement already satisfied: opencv-python in /usr/local/lib/python3.10/dist-packages (from paddleocr) (4.10.0.84)\n",
            "Requirement already satisfied: opencv-contrib-python in /usr/local/lib/python3.10/dist-packages (from paddleocr) (4.10.0.84)\n",
            "Requirement already satisfied: cython in /usr/local/lib/python3.10/dist-packages (from paddleocr) (3.0.11)\n",
            "Requirement already satisfied: Pillow in /usr/local/lib/python3.10/dist-packages (from paddleocr) (11.0.0)\n",
            "Requirement already satisfied: pyyaml in /usr/local/lib/python3.10/dist-packages (from paddleocr) (6.0.2)\n",
            "Collecting python-docx (from paddleocr)\n",
            "  Downloading python_docx-1.1.2-py3-none-any.whl.metadata (2.0 kB)\n",
            "Requirement already satisfied: beautifulsoup4 in /usr/local/lib/python3.10/dist-packages (from paddleocr) (4.12.3)\n",
            "Requirement already satisfied: fonttools>=4.24.0 in /usr/local/lib/python3.10/dist-packages (from paddleocr) (4.55.3)\n",
            "Collecting fire>=0.3.0 (from paddleocr)\n",
            "  Downloading fire-0.7.0.tar.gz (87 kB)\n",
            "\u001b[2K     \u001b[90m━━━━━━━━━━━━━━━━━━━━━━━━━━━━━━━━━━━━━━━━\u001b[0m \u001b[32m87.2/87.2 kB\u001b[0m \u001b[31m7.3 MB/s\u001b[0m eta \u001b[36m0:00:00\u001b[0m\n",
            "\u001b[?25h  Preparing metadata (setup.py) ... \u001b[?25l\u001b[?25hdone\n",
            "Requirement already satisfied: requests in /usr/local/lib/python3.10/dist-packages (from paddleocr) (2.32.3)\n",
            "Collecting albumentations==1.4.10 (from paddleocr)\n",
            "  Downloading albumentations-1.4.10-py3-none-any.whl.metadata (38 kB)\n",
            "Collecting albucore==0.0.13 (from paddleocr)\n",
            "  Downloading albucore-0.0.13-py3-none-any.whl.metadata (3.1 kB)\n",
            "Requirement already satisfied: tomli>=2.0.1 in /usr/local/lib/python3.10/dist-packages (from albucore==0.0.13->paddleocr) (2.2.1)\n",
            "Requirement already satisfied: typing-extensions>=4.9.0 in /usr/local/lib/python3.10/dist-packages (from albucore==0.0.13->paddleocr) (4.12.2)\n",
            "Requirement already satisfied: opencv-python-headless>=4.9.0.80 in /usr/local/lib/python3.10/dist-packages (from albucore==0.0.13->paddleocr) (4.10.0.84)\n",
            "Requirement already satisfied: scipy>=1.10.0 in /usr/local/lib/python3.10/dist-packages (from albumentations==1.4.10->paddleocr) (1.13.1)\n",
            "Requirement already satisfied: scikit-learn>=1.3.2 in /usr/local/lib/python3.10/dist-packages (from albumentations==1.4.10->paddleocr) (1.6.0)\n",
            "Requirement already satisfied: pydantic>=2.7.0 in /usr/local/lib/python3.10/dist-packages (from albumentations==1.4.10->paddleocr) (2.10.3)\n",
            "Requirement already satisfied: termcolor in /usr/local/lib/python3.10/dist-packages (from fire>=0.3.0->paddleocr) (2.5.0)\n",
            "Requirement already satisfied: networkx>=3.0 in /usr/local/lib/python3.10/dist-packages (from scikit-image->paddleocr) (3.4.2)\n",
            "Requirement already satisfied: imageio!=2.35.0,>=2.33 in /usr/local/lib/python3.10/dist-packages (from scikit-image->paddleocr) (2.36.1)\n",
            "Requirement already satisfied: tifffile>=2022.8.12 in /usr/local/lib/python3.10/dist-packages (from scikit-image->paddleocr) (2024.12.12)\n",
            "Requirement already satisfied: packaging>=21 in /usr/local/lib/python3.10/dist-packages (from scikit-image->paddleocr) (24.2)\n",
            "Requirement already satisfied: lazy-loader>=0.4 in /usr/local/lib/python3.10/dist-packages (from scikit-image->paddleocr) (0.4)\n",
            "Requirement already satisfied: soupsieve>1.2 in /usr/local/lib/python3.10/dist-packages (from beautifulsoup4->paddleocr) (2.6)\n",
            "Requirement already satisfied: six in /usr/local/lib/python3.10/dist-packages (from imgaug->paddleocr) (1.17.0)\n",
            "Requirement already satisfied: matplotlib in /usr/local/lib/python3.10/dist-packages (from imgaug->paddleocr) (3.8.0)\n",
            "Requirement already satisfied: lxml>=3.1.0 in /usr/local/lib/python3.10/dist-packages (from python-docx->paddleocr) (5.3.0)\n",
            "Requirement already satisfied: charset-normalizer<4,>=2 in /usr/local/lib/python3.10/dist-packages (from requests->paddleocr) (3.4.0)\n",
            "Requirement already satisfied: idna<4,>=2.5 in /usr/local/lib/python3.10/dist-packages (from requests->paddleocr) (3.10)\n",
            "Requirement already satisfied: urllib3<3,>=1.21.1 in /usr/local/lib/python3.10/dist-packages (from requests->paddleocr) (2.2.3)\n",
            "Requirement already satisfied: certifi>=2017.4.17 in /usr/local/lib/python3.10/dist-packages (from requests->paddleocr) (2024.12.14)\n",
            "Requirement already satisfied: annotated-types>=0.6.0 in /usr/local/lib/python3.10/dist-packages (from pydantic>=2.7.0->albumentations==1.4.10->paddleocr) (0.7.0)\n",
            "Requirement already satisfied: pydantic-core==2.27.1 in /usr/local/lib/python3.10/dist-packages (from pydantic>=2.7.0->albumentations==1.4.10->paddleocr) (2.27.1)\n",
            "Requirement already satisfied: joblib>=1.2.0 in /usr/local/lib/python3.10/dist-packages (from scikit-learn>=1.3.2->albumentations==1.4.10->paddleocr) (1.4.2)\n",
            "Requirement already satisfied: threadpoolctl>=3.1.0 in /usr/local/lib/python3.10/dist-packages (from scikit-learn>=1.3.2->albumentations==1.4.10->paddleocr) (3.5.0)\n",
            "Requirement already satisfied: contourpy>=1.0.1 in /usr/local/lib/python3.10/dist-packages (from matplotlib->imgaug->paddleocr) (1.3.1)\n",
            "Requirement already satisfied: cycler>=0.10 in /usr/local/lib/python3.10/dist-packages (from matplotlib->imgaug->paddleocr) (0.12.1)\n",
            "Requirement already satisfied: kiwisolver>=1.0.1 in /usr/local/lib/python3.10/dist-packages (from matplotlib->imgaug->paddleocr) (1.4.7)\n",
            "Requirement already satisfied: pyparsing>=2.3.1 in /usr/local/lib/python3.10/dist-packages (from matplotlib->imgaug->paddleocr) (3.2.0)\n",
            "Requirement already satisfied: python-dateutil>=2.7 in /usr/local/lib/python3.10/dist-packages (from matplotlib->imgaug->paddleocr) (2.8.2)\n",
            "Downloading paddleocr-2.9.1-py3-none-any.whl (544 kB)\n",
            "\u001b[2K   \u001b[90m━━━━━━━━━━━━━━━━━━━━━━━━━━━━━━━━━━━━━━━━\u001b[0m \u001b[32m544.7/544.7 kB\u001b[0m \u001b[31m20.6 MB/s\u001b[0m eta \u001b[36m0:00:00\u001b[0m\n",
            "\u001b[?25hDownloading albucore-0.0.13-py3-none-any.whl (8.5 kB)\n",
            "Downloading albumentations-1.4.10-py3-none-any.whl (161 kB)\n",
            "\u001b[2K   \u001b[90m━━━━━━━━━━━━━━━━━━━━━━━━━━━━━━━━━━━━━━━━\u001b[0m \u001b[32m161.9/161.9 kB\u001b[0m \u001b[31m13.3 MB/s\u001b[0m eta \u001b[36m0:00:00\u001b[0m\n",
            "\u001b[?25hDownloading lmdb-1.6.2-cp310-cp310-manylinux_2_17_x86_64.manylinux2014_x86_64.whl (294 kB)\n",
            "\u001b[2K   \u001b[90m━━━━━━━━━━━━━━━━━━━━━━━━━━━━━━━━━━━━━━━━\u001b[0m \u001b[32m294.8/294.8 kB\u001b[0m \u001b[31m18.6 MB/s\u001b[0m eta \u001b[36m0:00:00\u001b[0m\n",
            "\u001b[?25hDownloading pyclipper-1.3.0.post6-cp310-cp310-manylinux_2_12_x86_64.manylinux2010_x86_64.whl (912 kB)\n",
            "\u001b[2K   \u001b[90m━━━━━━━━━━━━━━━━━━━━━━━━━━━━━━━━━━━━━━━━\u001b[0m \u001b[32m912.2/912.2 kB\u001b[0m \u001b[31m41.4 MB/s\u001b[0m eta \u001b[36m0:00:00\u001b[0m\n",
            "\u001b[?25hDownloading python_docx-1.1.2-py3-none-any.whl (244 kB)\n",
            "\u001b[2K   \u001b[90m━━━━━━━━━━━━━━━━━━━━━━━━━━━━━━━━━━━━━━━━\u001b[0m \u001b[32m244.3/244.3 kB\u001b[0m \u001b[31m18.3 MB/s\u001b[0m eta \u001b[36m0:00:00\u001b[0m\n",
            "\u001b[?25hDownloading rapidfuzz-3.11.0-cp310-cp310-manylinux_2_17_x86_64.manylinux2014_x86_64.whl (3.1 MB)\n",
            "\u001b[2K   \u001b[90m━━━━━━━━━━━━━━━━━━━━━━━━━━━━━━━━━━━━━━━━\u001b[0m \u001b[32m3.1/3.1 MB\u001b[0m \u001b[31m32.8 MB/s\u001b[0m eta \u001b[36m0:00:00\u001b[0m\n",
            "\u001b[?25hBuilding wheels for collected packages: fire\n",
            "  Building wheel for fire (setup.py) ... \u001b[?25l\u001b[?25hdone\n",
            "  Created wheel for fire: filename=fire-0.7.0-py3-none-any.whl size=114249 sha256=7d62d3314ce33ec113fd78f4ad84fd568dc7b9767e21171e749a59cd171eeaa8\n",
            "  Stored in directory: /root/.cache/pip/wheels/19/39/2f/2d3cadc408a8804103f1c34ddd4b9f6a93497b11fa96fe738e\n",
            "Successfully built fire\n",
            "Installing collected packages: pyclipper, lmdb, rapidfuzz, python-docx, fire, albucore, albumentations, paddleocr\n",
            "  Attempting uninstall: albucore\n",
            "    Found existing installation: albucore 0.0.19\n",
            "    Uninstalling albucore-0.0.19:\n",
            "      Successfully uninstalled albucore-0.0.19\n",
            "  Attempting uninstall: albumentations\n",
            "    Found existing installation: albumentations 1.4.20\n",
            "    Uninstalling albumentations-1.4.20:\n",
            "      Successfully uninstalled albumentations-1.4.20\n",
            "Successfully installed albucore-0.0.13 albumentations-1.4.10 fire-0.7.0 lmdb-1.6.2 paddleocr-2.9.1 pyclipper-1.3.0.post6 python-docx-1.1.2 rapidfuzz-3.11.0\n"
          ]
        }
      ]
    },
    {
      "cell_type": "code",
      "source": [
        "from paddleocr import PaddleOCR\n",
        "import os\n",
        "from pathlib import Path\n",
        "\n",
        "def extract_text_from_images(input_folder, output_file):\n",
        "    \"\"\"\n",
        "    Extract text from PNG images in the specified folder and save to a text file.\n",
        "\n",
        "    Args:\n",
        "        input_folder (str): Path to folder containing PNG images\n",
        "        output_file (str): Path to output text file\n",
        "    \"\"\"\n",
        "\n",
        "    ocr = PaddleOCR(use_angle_cls=True, lang='en')\n",
        "\n",
        "\n",
        "    with open(output_file, 'w', encoding='utf-8') as f:\n",
        "\n",
        "        for image_file in Path(input_folder).glob('*.png'):\n",
        "            f.write(f\"\\n{'='*50}\\n\")\n",
        "            f.write(f\"Text extracted from: {image_file.name}\\n\")\n",
        "            f.write(f\"{'='*50}\\n\\n\")\n",
        "\n",
        "            try:\n",
        "\n",
        "                result = ocr.ocr(str(image_file))\n",
        "\n",
        "\n",
        "                if result:\n",
        "                    for idx, line in enumerate(result[0], 1):\n",
        "                        text = line[1][0]\n",
        "                        confidence = line[1][1]\n",
        "                        f.write(f\"Line {idx}: {text} (Confidence: {confidence:.2f})\\n\")\n",
        "                else:\n",
        "                    f.write(\"No text detected in this image.\\n\")\n",
        "\n",
        "            except Exception as e:\n",
        "                f.write(f\"Error processing image: {str(e)}\\n\")\n",
        "\n",
        "            f.write(\"\\n\")\n",
        "\n",
        "if __name__ == \"__main__\":\n",
        "    # Example usage\n",
        "    input_folder = \"/content/output_images\"  # Replace with your input folder path\n",
        "    output_file = \"extracted_text.txt\"  # Replace with your desired output file path\n",
        "\n",
        "    if not os.path.exists(input_folder):\n",
        "        print(f\"Error: Input folder '{input_folder}' does not exist!\")\n",
        "    else:\n",
        "        extract_text_from_images(input_folder, output_file)\n",
        "        print(f\"Text extraction complete! Results saved to {output_file}\")"
      ],
      "metadata": {
        "colab": {
          "base_uri": "https://localhost:8080/"
        },
        "id": "sW8ISQYyLDAE",
        "outputId": "44fe5d74-0ee9-49b0-ea6f-019e1f7cf545"
      },
      "execution_count": null,
      "outputs": [
        {
          "output_type": "stream",
          "name": "stdout",
          "text": [
            "download https://paddleocr.bj.bcebos.com/PP-OCRv3/english/en_PP-OCRv3_det_infer.tar to /root/.paddleocr/whl/det/en/en_PP-OCRv3_det_infer/en_PP-OCRv3_det_infer.tar\n"
          ]
        },
        {
          "output_type": "stream",
          "name": "stderr",
          "text": [
            "100%|██████████| 3910/3910 [00:06<00:00, 634.63it/s]\n"
          ]
        },
        {
          "output_type": "stream",
          "name": "stdout",
          "text": [
            "download https://paddleocr.bj.bcebos.com/PP-OCRv4/english/en_PP-OCRv4_rec_infer.tar to /root/.paddleocr/whl/rec/en/en_PP-OCRv4_rec_infer/en_PP-OCRv4_rec_infer.tar\n"
          ]
        },
        {
          "output_type": "stream",
          "name": "stderr",
          "text": [
            "100%|██████████| 10000/10000 [00:19<00:00, 516.15it/s]\n"
          ]
        },
        {
          "output_type": "stream",
          "name": "stdout",
          "text": [
            "download https://paddleocr.bj.bcebos.com/dygraph_v2.0/ch/ch_ppocr_mobile_v2.0_cls_infer.tar to /root/.paddleocr/whl/cls/ch_ppocr_mobile_v2.0_cls_infer/ch_ppocr_mobile_v2.0_cls_infer.tar\n"
          ]
        },
        {
          "output_type": "stream",
          "name": "stderr",
          "text": [
            "100%|██████████| 2138/2138 [00:16<00:00, 132.35it/s]"
          ]
        },
        {
          "output_type": "stream",
          "name": "stdout",
          "text": [
            "[2025/01/07 06:16:08] ppocr DEBUG: Namespace(help='==SUPPRESS==', use_gpu=False, use_xpu=False, use_npu=False, use_mlu=False, ir_optim=True, use_tensorrt=False, min_subgraph_size=15, precision='fp32', gpu_mem=500, gpu_id=0, image_dir=None, page_num=0, det_algorithm='DB', det_model_dir='/root/.paddleocr/whl/det/en/en_PP-OCRv3_det_infer', det_limit_side_len=960, det_limit_type='max', det_box_type='quad', det_db_thresh=0.3, det_db_box_thresh=0.6, det_db_unclip_ratio=1.5, max_batch_size=10, use_dilation=False, det_db_score_mode='fast', det_east_score_thresh=0.8, det_east_cover_thresh=0.1, det_east_nms_thresh=0.2, det_sast_score_thresh=0.5, det_sast_nms_thresh=0.2, det_pse_thresh=0, det_pse_box_thresh=0.85, det_pse_min_area=16, det_pse_scale=1, scales=[8, 16, 32], alpha=1.0, beta=1.0, fourier_degree=5, rec_algorithm='SVTR_LCNet', rec_model_dir='/root/.paddleocr/whl/rec/en/en_PP-OCRv4_rec_infer', rec_image_inverse=True, rec_image_shape='3, 48, 320', rec_batch_num=6, max_text_length=25, rec_char_dict_path='/usr/local/lib/python3.10/dist-packages/paddleocr/ppocr/utils/en_dict.txt', use_space_char=True, vis_font_path='./doc/fonts/simfang.ttf', drop_score=0.5, e2e_algorithm='PGNet', e2e_model_dir=None, e2e_limit_side_len=768, e2e_limit_type='max', e2e_pgnet_score_thresh=0.5, e2e_char_dict_path='./ppocr/utils/ic15_dict.txt', e2e_pgnet_valid_set='totaltext', e2e_pgnet_mode='fast', use_angle_cls=True, cls_model_dir='/root/.paddleocr/whl/cls/ch_ppocr_mobile_v2.0_cls_infer', cls_image_shape='3, 48, 192', label_list=['0', '180'], cls_batch_num=6, cls_thresh=0.9, enable_mkldnn=False, cpu_threads=10, use_pdserving=False, warmup=False, sr_model_dir=None, sr_image_shape='3, 32, 128', sr_batch_num=1, draw_img_save_dir='./inference_results', save_crop_res=False, crop_res_save_dir='./output', use_mp=False, total_process_num=1, process_id=0, benchmark=False, save_log_path='./log_output/', show_log=True, use_onnx=False, return_word_box=False, output='./output', table_max_len=488, table_algorithm='TableAttn', table_model_dir=None, merge_no_span_structure=True, table_char_dict_path=None, formula_algorithm='LaTeXOCR', formula_model_dir=None, formula_char_dict_path=None, formula_batch_num=1, layout_model_dir=None, layout_dict_path=None, layout_score_threshold=0.5, layout_nms_threshold=0.5, kie_algorithm='LayoutXLM', ser_model_dir=None, re_model_dir=None, use_visual_backbone=True, ser_dict_path='../train_data/XFUND/class_list_xfun.txt', ocr_order_method=None, mode='structure', image_orientation=False, layout=True, table=True, formula=False, ocr=True, recovery=False, recovery_to_markdown=False, use_pdf2docx_api=False, invert=False, binarize=False, alphacolor=(255, 255, 255), lang='en', det=True, rec=True, type='ocr', savefile=False, ocr_version='PP-OCRv4', structure_version='PP-StructureV2')\n"
          ]
        },
        {
          "output_type": "stream",
          "name": "stderr",
          "text": [
            "\n"
          ]
        },
        {
          "output_type": "stream",
          "name": "stdout",
          "text": [
            "[2025/01/07 06:16:10] ppocr DEBUG: dt_boxes num : 79, elapsed : 0.43598198890686035\n",
            "[2025/01/07 06:16:10] ppocr DEBUG: cls num  : 79, elapsed : 0.2191016674041748\n",
            "[2025/01/07 06:16:23] ppocr DEBUG: rec_res num  : 79, elapsed : 12.675493717193604\n",
            "Text extraction complete! Results saved to extracted_text.txt\n"
          ]
        }
      ]
    },
    {
      "cell_type": "code",
      "source": [
        "\n",
        "\n",
        "with open(\"/content/extracted_text.txt\", \"r\") as file:\n",
        "\n",
        "    content = file.read()\n",
        "\n",
        "    print(content)\n"
      ],
      "metadata": {
        "colab": {
          "base_uri": "https://localhost:8080/"
        },
        "id": "w2_U012oLWKv",
        "outputId": "477960cb-28b8-46d0-95d3-3ed80e311a93"
      },
      "execution_count": null,
      "outputs": [
        {
          "output_type": "stream",
          "name": "stdout",
          "text": [
            "\n",
            "==================================================\n",
            "Text extracted from: page_1.png\n",
            "==================================================\n",
            "\n",
            "Line 1: Shubham Jaiswal (Confidence: 1.00)\n",
            "Line 2: +91-7565001708 (Confidence: 0.99)\n",
            "Line 3: Roll No.:210106066 (Confidence: 0.93)\n",
            "Line 4: shubham.jaiswal@iitg.ac.in (Confidence: 0.99)\n",
            "Line 5: B.Tech -Bioscience and Bioengineering (Confidence: 0.95)\n",
            "Line 6: shubhamjaiswal14565220@gmail.com (Confidence: 0.98)\n",
            "Line 7: Indian Institute Of Technology,Guwahati (Confidence: 0.98)\n",
            "Line 8: github.com/Portfolio (Confidence: 0.99)\n",
            "Line 9: linkedin.com/shubham (Confidence: 0.99)\n",
            "Line 10: EDUCATION (Confidence: 0.99)\n",
            "Line 11: Degree/Certificate (Confidence: 0.89)\n",
            "Line 12: CGPA/Percentage (Confidence: 0.99)\n",
            "Line 13: Institute/Board (Confidence: 0.98)\n",
            "Line 14: reer (Confidence: 0.72)\n",
            "Line 15: B.Tech. (Confidence: 0.95)\n",
            "Line 16: Indinn Institute of Technology.Guwahati (Confidence: 0.94)\n",
            "Line 17: 7.37 Current (Confidence: 0.95)\n",
            "Line 18: 2021-Present (Confidence: 0.99)\n",
            "Line 19: Senior Secondary (Confidence: 0.93)\n",
            "Line 20: CBSE Board (Confidence: 0.97)\n",
            "Line 21: 88.2% (Confidence: 0.99)\n",
            "Line 22: 2020 (Confidence: 1.00)\n",
            "Line 23: Secondary (Confidence: 0.98)\n",
            "Line 24: CBSE Board (Confidence: 0.96)\n",
            "Line 25: 67.0% (Confidence: 1.00)\n",
            "Line 26: 2018 (Confidence: 1.00)\n",
            "Line 27: EXPERIENCE (Confidence: 0.99)\n",
            "Line 28: Translead Medtech (Confidence: 0.98)\n",
            "Line 29: Jul.2023 (Confidence: 0.95)\n",
            "Line 30: Web Derelopment Intern (Confidence: 0.90)\n",
            "Line 31: Renote (Confidence: 0.98)\n",
            "Line 32: PROJECTS (Confidence: 0.99)\n",
            "Line 33: CampusWay (Confidence: 0.99)\n",
            "Line 34: Feb.2024 (Confidence: 0.98)\n",
            "Line 35: Personal Project (Confidence: 0.97)\n",
            "Line 36: bit.ly/cw-github (Confidence: 0.98)\n",
            "Line 37: Xpenses (Confidence: 0.99)\n",
            "Line 38: Personal Project (Confidence: 0.97)\n",
            "Line 39: Jun.2024 (Confidence: 0.98)\n",
            "Line 40: bit.ly/xp-github (Confidence: 0.98)\n",
            "Line 41: .Whiteboard (Confidence: 0.97)\n",
            "Line 42: Group Project (Confidence: 0.96)\n",
            "Line 43: Jul.2024 (Confidence: 0.91)\n",
            "Line 44: bit.ly/wbd-github (Confidence: 0.99)\n",
            "Line 45:  Incorporated features that reduced onboarding time for new users, making the platform more accessible to teams. (Confidence: 0.98)\n",
            "Line 46: Google Meet Clone (Confidence: 0.96)\n",
            "Line 47: Group ProjectCoding ClubITG (Confidence: 0.94)\n",
            "Line 48: Dec.2023 (Confidence: 0.97)\n",
            "Line 49: -Built a web-based video-conferencing application that closcly replicates the core functionalities of Google Meet. (Confidence: 0.97)\n",
            "Line 50: bit.ly/gmc-github (Confidence: 0.97)\n",
            "Line 51: Implemented core features using modern web technologics like WebRTC, CSS, JavaScript, and Express js (Confidence: 0.97)\n",
            "Line 52: Added key fcatures including user authentication, hand raise, file sharing, and meeting time management. (Confidence: 0.98)\n",
            "Line 53: ACHIEVEMENTS (Confidence: 1.00)\n",
            "Line 54: Codeforces.Max-rating -1306 Pupil) (Confidence: 0.94)\n",
            "Line 55: -Codeforces Round 169:Secured Global Rank 685 among 20k+ participants. (Confidence: 0.95)\n",
            "Line 56: Hacker Rank, Reached 6 star, in problem-solving. (Confidence: 0.93)\n",
            "Line 57: : Kriti 2022, Secured 2nd position in the Kriti 2022 Inter-Hostel Automobile Competition, competing among 10 hostels. (Confidence: 0.97)\n",
            "Line 58: BHU Entrance TestSecured Rank 41 out of 0.4 million candidates. (Confidence: 0.95)\n",
            "Line 59: TECHNICAL SKILLS (Confidence: 0.99)\n",
            "Line 60: 2021 (Confidence: 1.00)\n",
            "Line 61: ProgrammingC/C++PythonJavaScript,MATLAB* (Confidence: 0.96)\n",
            "Line 62: Machine LearningNumpyPandas, Matplotlib, Seaborn (Confidence: 0.94)\n",
            "Line 63: Frameworks/Libraries: ReactJS, Express* (Confidence: 0.95)\n",
            "Line 64: Technology:HTML,CSS,TailwindCSS, Sockct.io (Confidence: 0.92)\n",
            "Line 65: MiscellaneousOOPs.OS.Git/Github (Confidence: 0.95)\n",
            "Line 66: Database ManagementMySQLMongoDB (Confidence: 0.99)\n",
            "Line 67: KEY COURSES TAKEN (Confidence: 0.96)\n",
            "Line 68: Mathematics: Linear Algebra, Diffrential Equation, Real Analysis, Complex Analysis. (Confidence: 0.96)\n",
            "Line 69: Elementury proficiency (Confidence: 0.94)\n",
            "Line 70: MooC: Data Structures and Algorithms, Web Technologies. (Confidence: 0.94)\n",
            "Line 71: POSITIONS OF RESPONSIBILITY (Confidence: 0.96)\n",
            "Line 72: Security Head.Spirit -IIT Guwahati (Confidence: 0.94)\n",
            "Line 73: Aug.2023-Dcc.2023 (Confidence: 0.96)\n",
            "Line 74:  Managed the footfall of around 50k+ with proper planning of Control Environment. (Confidence: 0.97)\n",
            "Line 75: Core Team Member, Consulting & Analytics Club, IIT Guwahati (Confidence: 0.94)\n",
            "Line 76: - Collaborated as a web developer in the Cousulting and Analytics Club, working with tcams to deliver web solutions. (Confidence: 0.97)\n",
            "Line 77: Apr.2023-Mar.2023 (Confidence: 0.96)\n",
            "Line 78: EXTRACURRICULARS (Confidence: 0.99)\n",
            "Line 79: Technothlon 2022,Pitched Technothlon exam to 300+students,securing 200+registrations. (Confidence: 0.94)\n",
            "\n",
            "\n"
          ]
        }
      ]
    },
    {
      "cell_type": "code",
      "source": [
        "from groq import Groq\n",
        "import os\n",
        "from pathlib import Path\n",
        "import base64\n",
        "from dotenv import load_dotenv\n",
        "\n",
        "def encode_image_to_base64(image_path):\n",
        "    \"\"\"Convert image to base64 string.\"\"\"\n",
        "    with open(image_path, \"rb\") as image_file:\n",
        "        return base64.b64encode(image_file.read()).decode('utf-8')\n",
        "\n",
        "def extract_text_from_images(input_folder, output_file):\n",
        "    \"\"\"\n",
        "    Extract text from PNG images using Groq's vision model.\n",
        "\n",
        "    Args:\n",
        "        input_folder (str): Path to folder containing PNG images\n",
        "        output_file (str): Path to output text file\n",
        "    \"\"\"\n",
        "    # Load environment variables\n",
        "    load_dotenv()\n",
        "\n",
        "    # Initialize Groq client with API key\n",
        "    client = Groq(\n",
        "        api_key=os.getenv('GROQ_API_KEY')\n",
        "    )\n",
        "\n",
        "    # Create output file\n",
        "    with open(output_file, 'w', encoding='utf-8') as f:\n",
        "        # Iterate through PNG files in the folder\n",
        "        for image_file in Path(input_folder).glob('*.png'):\n",
        "            f.write(f\"\\n{'='*50}\\n\")\n",
        "            f.write(f\"Text extracted from: {image_file.name}\\n\")\n",
        "            f.write(f\"{'='*50}\\n\\n\")\n",
        "\n",
        "            try:\n",
        "                # Create completion request\n",
        "                completion = client.chat.completions.create(\n",
        "                    model=\"llama-3.2-11b-vision-preview\",\n",
        "                    messages=[\n",
        "                        {\n",
        "                            \"role\": \"user\",\n",
        "                            \"content\": [\n",
        "                                {\n",
        "                                    \"type\": \"text\",\n",
        "                                    \"text\": \"Please extract and list all text visible in this image. Only return the text content.\"\n",
        "                                },\n",
        "                                {\n",
        "                                    \"type\": \"image_url\",\n",
        "                                    \"image_url\": {\n",
        "                                        \"url\": f\"data:image/png;base64,{encode_image_to_base64(str(image_file))}\"\n",
        "                                    }\n",
        "                                }\n",
        "                            ]\n",
        "                        }\n",
        "                    ],\n",
        "                    temperature=0.3,  # Lower temperature for more focused text extraction\n",
        "                    max_tokens=1024,\n",
        "                    top_p=1,\n",
        "                    stream=False\n",
        "                )\n",
        "\n",
        "                # Write extracted text\n",
        "                extracted_text = completion.choices[0].message.content\n",
        "                f.write(f\"{extracted_text}\\n\\n\")\n",
        "\n",
        "            except Exception as e:\n",
        "                f.write(f\"Error processing image: {str(e)}\\n\")\n",
        "\n",
        "            f.write(\"\\n\")\n",
        "\n",
        "if __name__ == \"__main__\":\n",
        "    # Example usage\n",
        "    input_folder = \"output_images\"  # Replace with your input folder path\n",
        "    output_file = \"extracted_text.txt\"  # Replace with your desired output file path\n",
        "\n",
        "    if not os.path.exists(input_folder):\n",
        "        print(f\"Error: Input folder '{input_folder}' does not exist!\")\n",
        "    else:\n",
        "        extract_text_from_images(input_folder, output_file)\n",
        "        print(f\"Text extraction complete! Results saved to {output_file}\")"
      ],
      "metadata": {
        "id": "uAHBlYv9WavO"
      },
      "execution_count": null,
      "outputs": []
    },
    {
      "cell_type": "code",
      "source": [],
      "metadata": {
        "id": "jIlUy9WlPaYc"
      },
      "execution_count": null,
      "outputs": []
    },
    {
      "cell_type": "code",
      "source": [
        "import fitz  # PyMuPDF\n",
        "\n",
        "# Open PDF\n",
        "doc = fitz.open('test1.pdf')\n",
        "\n",
        "# Extract text from all pages\n",
        "text = \"\"\n",
        "for page in doc:\n",
        "    text += page.get_text()\n",
        "\n",
        "# Save to file\n",
        "with open('output.txt', 'w', encoding='utf-8') as f:\n",
        "    f.write(text)\n",
        "\n",
        "# Close the document\n",
        "doc.close()"
      ],
      "metadata": {
        "id": "qpZ6rF2mV1M1"
      },
      "execution_count": null,
      "outputs": []
    },
    {
      "cell_type": "code",
      "source": [
        "pip install pypdf2"
      ],
      "metadata": {
        "colab": {
          "base_uri": "https://localhost:8080/"
        },
        "id": "HP87oo_lajuz",
        "outputId": "fa2a7737-b3d0-4f0d-b67c-1ed3182256cf"
      },
      "execution_count": null,
      "outputs": [
        {
          "output_type": "stream",
          "name": "stdout",
          "text": [
            "Collecting pypdf2\n",
            "  Downloading pypdf2-3.0.1-py3-none-any.whl.metadata (6.8 kB)\n",
            "Downloading pypdf2-3.0.1-py3-none-any.whl (232 kB)\n",
            "\u001b[?25l   \u001b[90m━━━━━━━━━━━━━━━━━━━━━━━━━━━━━━━━━━━━━━━━\u001b[0m \u001b[32m0.0/232.6 kB\u001b[0m \u001b[31m?\u001b[0m eta \u001b[36m-:--:--\u001b[0m\r\u001b[2K   \u001b[90m━━━━━━━━━━━━━━━━━━━━━━━━━━━━━━━━━━━━━━━━\u001b[0m \u001b[32m232.6/232.6 kB\u001b[0m \u001b[31m17.1 MB/s\u001b[0m eta \u001b[36m0:00:00\u001b[0m\n",
            "\u001b[?25hInstalling collected packages: pypdf2\n",
            "Successfully installed pypdf2-3.0.1\n"
          ]
        }
      ]
    },
    {
      "cell_type": "code",
      "source": [
        "from PyPDF2 import PdfReader\n",
        "\n",
        "# Create PDF reader object\n",
        "reader = PdfReader('/content/test1.pdf')\n",
        "\n",
        "# Extract text from all pages\n",
        "text = \"\"\n",
        "for page in reader.pages:\n",
        "    text += page.extract_text()\n",
        "\n",
        "# Save to file\n",
        "with open('output.txt', 'w', encoding='utf-8') as f:\n",
        "    f.write(text)"
      ],
      "metadata": {
        "id": "qCmvEX6pWFaN"
      },
      "execution_count": null,
      "outputs": []
    },
    {
      "cell_type": "code",
      "source": [
        "pip install pytesseract"
      ],
      "metadata": {
        "colab": {
          "base_uri": "https://localhost:8080/"
        },
        "id": "x4cvt065ao7k",
        "outputId": "dd7fce73-9d80-4b3a-bcb4-d7d11c47982c"
      },
      "execution_count": null,
      "outputs": [
        {
          "output_type": "stream",
          "name": "stdout",
          "text": [
            "Collecting pytesseract\n",
            "  Downloading pytesseract-0.3.13-py3-none-any.whl.metadata (11 kB)\n",
            "Requirement already satisfied: packaging>=21.3 in /usr/local/lib/python3.10/dist-packages (from pytesseract) (24.2)\n",
            "Requirement already satisfied: Pillow>=8.0.0 in /usr/local/lib/python3.10/dist-packages (from pytesseract) (11.0.0)\n",
            "Downloading pytesseract-0.3.13-py3-none-any.whl (14 kB)\n",
            "Installing collected packages: pytesseract\n",
            "Successfully installed pytesseract-0.3.13\n"
          ]
        }
      ]
    },
    {
      "cell_type": "code",
      "source": [
        "pip install tesseract"
      ],
      "metadata": {
        "colab": {
          "base_uri": "https://localhost:8080/"
        },
        "id": "ov8J8j-KcRIQ",
        "outputId": "0d45d0ed-3e0e-4704-e478-9e9b306bef7c"
      },
      "execution_count": null,
      "outputs": [
        {
          "output_type": "stream",
          "name": "stdout",
          "text": [
            "Collecting tesseract\n",
            "  Downloading tesseract-0.1.3.tar.gz (45.6 MB)\n",
            "\u001b[2K     \u001b[90m━━━━━━━━━━━━━━━━━━━━━━━━━━━━━━━━━━━━━━━━\u001b[0m \u001b[32m45.6/45.6 MB\u001b[0m \u001b[31m18.2 MB/s\u001b[0m eta \u001b[36m0:00:00\u001b[0m\n",
            "\u001b[?25h  Preparing metadata (setup.py) ... \u001b[?25l\u001b[?25hdone\n",
            "Building wheels for collected packages: tesseract\n",
            "  Building wheel for tesseract (setup.py) ... \u001b[?25l\u001b[?25hdone\n",
            "  Created wheel for tesseract: filename=tesseract-0.1.3-py3-none-any.whl size=45562552 sha256=31ac14a2e5d5ccf25add5e4bf18d63617529e18a5f92166838ded7a9a3e96470\n",
            "  Stored in directory: /root/.cache/pip/wheels/71/c9/aa/698c579693e83fdda9ad6d6f0d8f61ed986e27925ef576f109\n",
            "Successfully built tesseract\n",
            "Installing collected packages: tesseract\n",
            "Successfully installed tesseract-0.1.3\n"
          ]
        }
      ]
    },
    {
      "cell_type": "code",
      "source": [
        "!apt-get update\n",
        "!apt-get install -y tesseract-ocr"
      ],
      "metadata": {
        "colab": {
          "base_uri": "https://localhost:8080/"
        },
        "id": "Ad9aIT4ScgfA",
        "outputId": "ac2edba2-a212-41e9-b519-d01009b87c1b"
      },
      "execution_count": null,
      "outputs": [
        {
          "output_type": "stream",
          "name": "stdout",
          "text": [
            "\r0% [Working]\r            \rGet:1 http://security.ubuntu.com/ubuntu jammy-security InRelease [129 kB]\n",
            "\r0% [Waiting for headers] [1 InRelease 5,484 B/129 kB 4%] [Waiting for headers] [Connected to r2u.sta\r                                                                                                    \rGet:2 https://cloud.r-project.org/bin/linux/ubuntu jammy-cran40/ InRelease [3,626 B]\n",
            "\r0% [Waiting for headers] [1 InRelease 12.7 kB/129 kB 10%] [2 InRelease 3,626 B/3,626 B 100%] [Connec\r0% [Waiting for headers] [1 InRelease 31.5 kB/129 kB 24%] [Connected to r2u.stat.illinois.edu (192.1\r                                                                                                    \rHit:3 http://archive.ubuntu.com/ubuntu jammy InRelease\n",
            "\r0% [Waiting for headers] [1 InRelease 34.4 kB/129 kB 27%] [Connected to r2u.stat.illinois.edu (192.1\r                                                                                                    \rGet:4 https://developer.download.nvidia.com/compute/cuda/repos/ubuntu2204/x86_64  InRelease [1,581 B]\n",
            "\r0% [Waiting for headers] [1 InRelease 47.5 kB/129 kB 37%] [Connected to r2u.stat.illinois.edu (192.1\r0% [Waiting for headers] [1 InRelease 53.3 kB/129 kB 41%] [Connected to r2u.stat.illinois.edu (192.1\r                                                                                                    \rGet:5 http://archive.ubuntu.com/ubuntu jammy-updates InRelease [128 kB]\n",
            "\r0% [5 InRelease 14.2 kB/128 kB 11%] [1 InRelease 64.9 kB/129 kB 50%] [Waiting for headers] [Connecti\r0% [5 InRelease 27.2 kB/128 kB 21%] [Waiting for headers] [Connecting to ppa.launchpadcontent.net (1\r0% [Waiting for headers] [Waiting for headers] [Connecting to ppa.launchpadcontent.net (185.125.190.\r                                                                                                    \rGet:6 http://archive.ubuntu.com/ubuntu jammy-backports InRelease [127 kB]\n",
            "Get:7 https://r2u.stat.illinois.edu/ubuntu jammy InRelease [6,555 B]\n",
            "Get:8 https://cloud.r-project.org/bin/linux/ubuntu jammy-cran40/ Packages [61.7 kB]\n",
            "Hit:9 https://ppa.launchpadcontent.net/deadsnakes/ppa/ubuntu jammy InRelease\n",
            "Get:10 https://developer.download.nvidia.com/compute/cuda/repos/ubuntu2204/x86_64  Packages [1,199 kB]\n",
            "Hit:11 https://ppa.launchpadcontent.net/graphics-drivers/ppa/ubuntu jammy InRelease\n",
            "Hit:12 https://ppa.launchpadcontent.net/ubuntugis/ppa/ubuntu jammy InRelease\n",
            "Get:13 http://security.ubuntu.com/ubuntu jammy-security/universe amd64 Packages [1,226 kB]\n",
            "Get:14 http://security.ubuntu.com/ubuntu jammy-security/restricted amd64 Packages [3,513 kB]\n",
            "Get:15 http://security.ubuntu.com/ubuntu jammy-security/main amd64 Packages [2,552 kB]\n",
            "Get:16 http://archive.ubuntu.com/ubuntu jammy-updates/universe amd64 Packages [1,517 kB]\n",
            "Get:17 http://archive.ubuntu.com/ubuntu jammy-updates/main amd64 Packages [2,854 kB]\n",
            "Get:18 http://archive.ubuntu.com/ubuntu jammy-updates/restricted amd64 Packages [3,652 kB]\n",
            "Get:19 https://r2u.stat.illinois.edu/ubuntu jammy/main amd64 Packages [2,631 kB]\n",
            "Fetched 19.6 MB in 2s (8,712 kB/s)\n",
            "Reading package lists... Done\n",
            "W: Skipping acquire of configured file 'main/source/Sources' as repository 'https://r2u.stat.illinois.edu/ubuntu jammy InRelease' does not seem to provide it (sources.list entry misspelt?)\n",
            "Reading package lists... Done\n",
            "Building dependency tree... Done\n",
            "Reading state information... Done\n",
            "The following additional packages will be installed:\n",
            "  tesseract-ocr-eng tesseract-ocr-osd\n",
            "The following NEW packages will be installed:\n",
            "  tesseract-ocr tesseract-ocr-eng tesseract-ocr-osd\n",
            "0 upgraded, 3 newly installed, 0 to remove and 52 not upgraded.\n",
            "Need to get 4,816 kB of archives.\n",
            "After this operation, 15.6 MB of additional disk space will be used.\n",
            "Get:1 http://archive.ubuntu.com/ubuntu jammy/universe amd64 tesseract-ocr-eng all 1:4.00~git30-7274cfa-1.1 [1,591 kB]\n",
            "Get:2 http://archive.ubuntu.com/ubuntu jammy/universe amd64 tesseract-ocr-osd all 1:4.00~git30-7274cfa-1.1 [2,990 kB]\n",
            "Get:3 http://archive.ubuntu.com/ubuntu jammy/universe amd64 tesseract-ocr amd64 4.1.1-2.1build1 [236 kB]\n",
            "Fetched 4,816 kB in 1s (5,150 kB/s)\n",
            "Selecting previously unselected package tesseract-ocr-eng.\n",
            "(Reading database ... 123632 files and directories currently installed.)\n",
            "Preparing to unpack .../tesseract-ocr-eng_1%3a4.00~git30-7274cfa-1.1_all.deb ...\n",
            "Unpacking tesseract-ocr-eng (1:4.00~git30-7274cfa-1.1) ...\n",
            "Selecting previously unselected package tesseract-ocr-osd.\n",
            "Preparing to unpack .../tesseract-ocr-osd_1%3a4.00~git30-7274cfa-1.1_all.deb ...\n",
            "Unpacking tesseract-ocr-osd (1:4.00~git30-7274cfa-1.1) ...\n",
            "Selecting previously unselected package tesseract-ocr.\n",
            "Preparing to unpack .../tesseract-ocr_4.1.1-2.1build1_amd64.deb ...\n",
            "Unpacking tesseract-ocr (4.1.1-2.1build1) ...\n",
            "Setting up tesseract-ocr-eng (1:4.00~git30-7274cfa-1.1) ...\n",
            "Setting up tesseract-ocr-osd (1:4.00~git30-7274cfa-1.1) ...\n",
            "Setting up tesseract-ocr (4.1.1-2.1build1) ...\n",
            "Processing triggers for man-db (2.10.2-1) ...\n"
          ]
        }
      ]
    },
    {
      "cell_type": "code",
      "source": [
        "import pytesseract as pt\n",
        "\n",
        "# Extract text from the image\n",
        "text = pt.image_to_string('/content/output_images/page_1.png', lang='eng')\n",
        "\n",
        "# Define the path to save the text file\n",
        "output_file_path = '/content/output_text.txt'\n",
        "\n",
        "# Write the extracted text to a .txt file\n",
        "with open(output_file_path, 'w') as file:\n",
        "    file.write(text)\n",
        "\n",
        "print(f\"Text has been saved to {output_file_path}\")\n"
      ],
      "metadata": {
        "colab": {
          "base_uri": "https://localhost:8080/"
        },
        "id": "lyerSfSYbrtx",
        "outputId": "d0a8daeb-3302-498f-f1e8-9c8b7b162311"
      },
      "execution_count": null,
      "outputs": [
        {
          "output_type": "stream",
          "name": "stdout",
          "text": [
            "Text has been saved to /content/output_text.txt\n"
          ]
        }
      ]
    },
    {
      "cell_type": "code",
      "source": [],
      "metadata": {
        "id": "DeMDJF7bcN66"
      },
      "execution_count": null,
      "outputs": []
    }
  ]
}